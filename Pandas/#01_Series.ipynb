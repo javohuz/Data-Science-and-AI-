{
  "nbformat": 4,
  "nbformat_minor": 0,
  "metadata": {
    "colab": {
      "provenance": [],
      "authorship_tag": "ABX9TyO8aUzqFtjJNeGgkvHHiH1X",
      "include_colab_link": true
    },
    "kernelspec": {
      "name": "python3",
      "display_name": "Python 3"
    },
    "language_info": {
      "name": "python"
    }
  },
  "cells": [
    {
      "cell_type": "markdown",
      "metadata": {
        "id": "view-in-github",
        "colab_type": "text"
      },
      "source": [
        "<a href=\"https://colab.research.google.com/github/javohuz/Data_Science_and_AI/blob/main/Pandas/%2301_Series.ipynb\" target=\"_parent\"><img src=\"https://colab.research.google.com/assets/colab-badge.svg\" alt=\"Open In Colab\"/></a>"
      ]
    },
    {
      "cell_type": "markdown",
      "source": [
        "# Pandas Series\n",
        "\n",
        "- `import pandas as pd`\n",
        "- `from pandas import Series` >> Malumotlar tuzilmasi , Python Dictionasrga uhshash\n",
        "- `s[s>2]` >> Filtirlash as numpy\n",
        "- `s.index`  `s.values`\n",
        "- `series_list = Series(my_dict)` >> Dictdan Seriasga utish\n",
        "<br>\n",
        "<hr>\n",
        " Series malumotlar tuzilmasi == Python dict <br>\n",
        " Dictdagi amallarni Seriesda ham qullash mumkun"
      ],
      "metadata": {
        "id": "Gs6nwbpApLyz"
      }
    },
    {
      "cell_type": "code",
      "execution_count": 1,
      "metadata": {
        "id": "P9nteSSbmEbl"
      },
      "outputs": [],
      "source": [
        "import pandas as pd\n",
        "import numpy as np"
      ]
    },
    {
      "cell_type": "code",
      "source": [
        "from pandas import Series"
      ],
      "metadata": {
        "id": "oXahsPGJnEGz"
      },
      "execution_count": 3,
      "outputs": []
    },
    {
      "cell_type": "code",
      "source": [
        "s = Series([1, 3, 5, 7, 9] , index=['a','javohir','c','d','e'])\n",
        "s[s>2]\n",
        "s*2"
      ],
      "metadata": {
        "colab": {
          "base_uri": "https://localhost:8080/"
        },
        "id": "kUdrrBsNnJd2",
        "outputId": "2a992aaf-8cff-49c6-c828-ea6888a54709"
      },
      "execution_count": 40,
      "outputs": [
        {
          "output_type": "execute_result",
          "data": {
            "text/plain": [
              "a           2\n",
              "javohir     6\n",
              "c          10\n",
              "d          14\n",
              "e          18\n",
              "dtype: int64"
            ]
          },
          "metadata": {},
          "execution_count": 40
        }
      ]
    },
    {
      "cell_type": "markdown",
      "source": [
        " Index and values"
      ],
      "metadata": {
        "id": "r7xKAG22qXOd"
      }
    },
    {
      "cell_type": "code",
      "source": [
        "s.index\n",
        "s.values"
      ],
      "metadata": {
        "colab": {
          "base_uri": "https://localhost:8080/"
        },
        "id": "gYSW1OIpnaqQ",
        "outputId": "8d8b9ee1-5ef8-44ce-d3fe-4d276374040a"
      },
      "execution_count": 31,
      "outputs": [
        {
          "output_type": "execute_result",
          "data": {
            "text/plain": [
              "array([1, 3, 5, 7, 9])"
            ]
          },
          "metadata": {},
          "execution_count": 31
        }
      ]
    },
    {
      "cell_type": "markdown",
      "source": [
        "Pyhton Lug'atlar bilan ishlash"
      ],
      "metadata": {
        "id": "ufOnFVHRq6K8"
      }
    },
    {
      "cell_type": "code",
      "source": [
        "my_dict = {\n",
        "    \"name\": \"John\",\n",
        "    \"age\": 30,\n",
        "    \"city\": \"New York\",\n",
        "    \"state\": \"NY\",\n",
        "    \"zip\": \"10001\"\n",
        "}\n",
        "\n",
        "series_list = Series(my_dict)"
      ],
      "metadata": {
        "id": "pl8ff94vq8Qr"
      },
      "execution_count": 41,
      "outputs": []
    },
    {
      "cell_type": "markdown",
      "source": [
        "\n",
        "```\n",
        "`s = Series([1, 3, 5, 7, 9] , index=['a','b','c','d','e'])` `==` `s = Series({'a':1,'b':3,'c':5,'d':7,'e':9})`\n",
        "```\n",
        "\n",
        "\n",
        "\n"
      ],
      "metadata": {
        "id": "1DWDlk_2uLLg"
      }
    },
    {
      "cell_type": "code",
      "source": [
        "s = Series({'a':1,'b':3,'c':5,'d':7,'e':9})\n",
        "s"
      ],
      "metadata": {
        "colab": {
          "base_uri": "https://localhost:8080/"
        },
        "id": "DH2k2u6BsJTg",
        "outputId": "27e5ba07-7bdb-41d1-8a1c-a4422a2b2d25"
      },
      "execution_count": 42,
      "outputs": [
        {
          "output_type": "execute_result",
          "data": {
            "text/plain": [
              "a    1\n",
              "b    3\n",
              "c    5\n",
              "d    7\n",
              "e    9\n",
              "dtype: int64"
            ]
          },
          "metadata": {},
          "execution_count": 42
        }
      ]
    },
    {
      "cell_type": "code",
      "source": [
        "model = ['b','c','a','d','i']\n",
        "s= Series({'a':1,'b':3,'c':5,'d':7,'e':9} , index=model)\n",
        "s"
      ],
      "metadata": {
        "colab": {
          "base_uri": "https://localhost:8080/"
        },
        "id": "cj862w-VuDT3",
        "outputId": "14af9632-91c9-4e5c-91bf-46b0ec89699b"
      },
      "execution_count": 46,
      "outputs": [
        {
          "output_type": "execute_result",
          "data": {
            "text/plain": [
              "b    3.0\n",
              "c    5.0\n",
              "a    1.0\n",
              "d    7.0\n",
              "i    NaN\n",
              "dtype: float64"
            ]
          },
          "metadata": {},
          "execution_count": 46
        }
      ]
    },
    {
      "cell_type": "markdown",
      "source": [
        "# Series metodlari\n",
        "\n",
        "-  `.isnull()` >> Series ichidagi volues larni 0 ga tengi bulsa True qaytaradi\n",
        "- `.notnull()` >> isnull aksi volues = 0 False\n",
        "- series lar ichida amllarni ham bajarish mumkun mos index lari nomi buyicha qushilishi yoki kupayishi mumkun\n",
        "- `s.name = 'Dict\" ` >> nom berish\n",
        "- `s.index.name = 'harflar'`  indexlarga nom berish  \n"
      ],
      "metadata": {
        "id": "qiw2Pm5ivjVT"
      }
    },
    {
      "cell_type": "code",
      "source": [
        "s = Series({'a':1,'b':3,'c':5,'d':7,'e':9})\n",
        "s.isnull()\n",
        "s.notnull()"
      ],
      "metadata": {
        "colab": {
          "base_uri": "https://localhost:8080/"
        },
        "id": "Aru-nGXlvIQy",
        "outputId": "eccd628a-b7a9-448a-e3b6-b4c800fe808d"
      },
      "execution_count": 50,
      "outputs": [
        {
          "output_type": "execute_result",
          "data": {
            "text/plain": [
              "a    True\n",
              "b    True\n",
              "c    True\n",
              "d    True\n",
              "e    True\n",
              "dtype: bool"
            ]
          },
          "metadata": {},
          "execution_count": 50
        }
      ]
    },
    {
      "cell_type": "code",
      "source": [
        "s.name = 'Dict'\n",
        "s.index.name = \"harflar \"\n",
        "s"
      ],
      "metadata": {
        "colab": {
          "base_uri": "https://localhost:8080/"
        },
        "id": "uDqUJjT6xmRN",
        "outputId": "db355b6e-2b93-4835-9270-936b987bd6ef"
      },
      "execution_count": 52,
      "outputs": [
        {
          "output_type": "execute_result",
          "data": {
            "text/plain": [
              "harflar \n",
              "a    1\n",
              "b    3\n",
              "c    5\n",
              "d    7\n",
              "e    9\n",
              "Name: Dict, dtype: int64"
            ]
          },
          "metadata": {},
          "execution_count": 52
        }
      ]
    }
  ]
}