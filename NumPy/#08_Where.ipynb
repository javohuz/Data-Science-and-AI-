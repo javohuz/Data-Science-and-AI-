{
  "nbformat": 4,
  "nbformat_minor": 0,
  "metadata": {
    "colab": {
      "provenance": [],
      "authorship_tag": "ABX9TyOJNyXZo7eYvXYAHI/Gqvdp",
      "include_colab_link": true
    },
    "kernelspec": {
      "name": "python3",
      "display_name": "Python 3"
    },
    "language_info": {
      "name": "python"
    }
  },
  "cells": [
    {
      "cell_type": "markdown",
      "metadata": {
        "id": "view-in-github",
        "colab_type": "text"
      },
      "source": [
        "<a href=\"https://colab.research.google.com/github/javohuz/Data_Science_and_AI/blob/main/%20NumPy/%2308_Where.ipynb\" target=\"_parent\"><img src=\"https://colab.research.google.com/assets/colab-badge.svg\" alt=\"Open In Colab\"/></a>"
      ]
    },
    {
      "cell_type": "markdown",
      "source": [
        "# where shart operatoralari\n",
        "  - `np.where(condition, t,f) `  = > condition = shart, agar shartni True bulsa t urnida turgan elemen , agar False bulsa f urnida turgan element qiymati berilgan array yaratiladi ,\n",
        "  - `natija = np.where(arr>0 , 1,-1 )` masalan shundey\n"
      ],
      "metadata": {
        "id": "_A5pfXh8cebi"
      }
    },
    {
      "cell_type": "code",
      "execution_count": null,
      "metadata": {
        "id": "Xv1hxc9BZNOr"
      },
      "outputs": [],
      "source": [
        "import numpy as np"
      ]
    },
    {
      "cell_type": "code",
      "source": [
        "t = np.array([1.1, 1.2, 1.3, 1.4, 1.5])\n",
        "f = np.array([2.1, 2.2, 2.3, 2.4, 2.5])\n",
        "print(t,f)\n",
        "np.where()"
      ],
      "metadata": {
        "colab": {
          "base_uri": "https://localhost:8080/"
        },
        "id": "fYHPA380cokV",
        "outputId": "bb029bec-5fe9-4b27-88c1-88f3a54584f0"
      },
      "execution_count": null,
      "outputs": [
        {
          "output_type": "stream",
          "name": "stdout",
          "text": [
            "[1.1 1.2 1.3 1.4 1.5] [2.1 2.2 2.3 2.4 2.5]\n"
          ]
        }
      ]
    },
    {
      "cell_type": "code",
      "source": [
        "# cond\n",
        "cond = np.array([True, False, False, True ,True])"
      ],
      "metadata": {
        "id": "NkVGStO1dCmP"
      },
      "execution_count": null,
      "outputs": []
    },
    {
      "cell_type": "code",
      "source": [
        "# where t turgan joy True , f turgan joy False qiymat qaytaradi\n",
        "resalt = np.where(cond , t,f)\n",
        "resalt"
      ],
      "metadata": {
        "colab": {
          "base_uri": "https://localhost:8080/"
        },
        "id": "unhC4rT4daEA",
        "outputId": "f828ca7a-a17a-4500-bbe0-e9dfa409aa59"
      },
      "execution_count": null,
      "outputs": [
        {
          "output_type": "execute_result",
          "data": {
            "text/plain": [
              "array([1.1, 2.2, 2.3, 1.4, 1.5])"
            ]
          },
          "metadata": {},
          "execution_count": 6
        }
      ]
    },
    {
      "cell_type": "code",
      "source": [
        "arr = np.random.randn(5,5)\n",
        "print(arr)\n"
      ],
      "metadata": {
        "colab": {
          "base_uri": "https://localhost:8080/"
        },
        "id": "4ACBh98-dsbi",
        "outputId": "df0254e8-49aa-4a71-81a5-a74cc6c1cb69"
      },
      "execution_count": null,
      "outputs": [
        {
          "output_type": "stream",
          "name": "stdout",
          "text": [
            "[[ 2.62781163e-01  2.15635382e+00  1.47811752e+00  1.19743555e+00\n",
            "  -3.67771778e-01]\n",
            " [-2.04344401e-01 -5.02250347e-01  1.36900142e+00 -1.02222335e+00\n",
            "   1.31086331e+00]\n",
            " [ 5.96948992e-01 -1.22291008e+00 -6.98559143e-01 -1.38729939e+00\n",
            "   5.17590488e-01]\n",
            " [-1.34596219e-01  2.05245808e+00 -7.46330566e-01 -2.06237388e+00\n",
            "  -1.99287751e-03]\n",
            " [-1.23545964e+00  2.69388528e-01 -4.13174526e-01  9.47919292e-02\n",
            "  -1.12139410e+00]]\n"
          ]
        }
      ]
    },
    {
      "cell_type": "code",
      "source": [
        "natija = np.where(arr>0 , 1,-1 )\n",
        "natija"
      ],
      "metadata": {
        "colab": {
          "base_uri": "https://localhost:8080/"
        },
        "id": "V9yQSmBKd9Mv",
        "outputId": "ed7b5210-0a66-4ee1-ff24-b8d8baa3e7bb"
      },
      "execution_count": null,
      "outputs": [
        {
          "output_type": "execute_result",
          "data": {
            "text/plain": [
              "array([[ 1,  1,  1,  1, -1],\n",
              "       [-1, -1,  1, -1,  1],\n",
              "       [ 1, -1, -1, -1,  1],\n",
              "       [-1,  1, -1, -1, -1],\n",
              "       [-1,  1, -1,  1, -1]])"
            ]
          },
          "metadata": {},
          "execution_count": 12
        }
      ]
    },
    {
      "cell_type": "code",
      "source": [],
      "metadata": {
        "id": "7dyMXFvVe0xq"
      },
      "execution_count": null,
      "outputs": []
    },
    {
      "cell_type": "markdown",
      "source": [],
      "metadata": {
        "id": "8n6yJs1IgLzF"
      }
    }
  ]
}