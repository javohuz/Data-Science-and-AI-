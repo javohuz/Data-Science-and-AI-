{
  "nbformat": 4,
  "nbformat_minor": 0,
  "metadata": {
    "colab": {
      "provenance": [],
      "collapsed_sections": [
        "vPzXr6twy9-D",
        "PzUYS6fwQ5CY"
      ],
      "authorship_tag": "ABX9TyPOz+nVnmC8oieCX4a4fmPi",
      "include_colab_link": true
    },
    "kernelspec": {
      "name": "python3",
      "display_name": "Python 3"
    },
    "language_info": {
      "name": "python"
    }
  },
  "cells": [
    {
      "cell_type": "markdown",
      "metadata": {
        "id": "view-in-github",
        "colab_type": "text"
      },
      "source": [
        "<a href=\"https://colab.research.google.com/github/javohuz/Data_Science_and_AI/blob/main/NumPy/%2301-Arrays.ipynb\" target=\"_parent\"><img src=\"https://colab.research.google.com/assets/colab-badge.svg\" alt=\"Open In Colab\"/></a>"
      ]
    },
    {
      "cell_type": "markdown",
      "source": [
        "# #01 Lesson: Working with NumPy Library\n",
        "   "
      ],
      "metadata": {
        "id": "a6ffH9u27S0C"
      }
    },
    {
      "cell_type": "markdown",
      "source": [
        "# Why need Numpy ?\n"
      ],
      "metadata": {
        "id": "vPzXr6twy9-D"
      }
    },
    {
      "cell_type": "markdown",
      "source": [
        "NumPy => python kutubhunalaridan biri c tillarida yozilgan listdan ancha tezroq , vectorlashgan va shunga uhshash boshqa qulayliklari borligi sababli foyldalaniladi\n",
        " - Asosan ARRAYlar uchun"
      ],
      "metadata": {
        "id": "jGPcKkeZSoSb"
      }
    },
    {
      "cell_type": "code",
      "source": [
        "import numpy as np"
      ],
      "metadata": {
        "id": "FJMQt2zY4dLI"
      },
      "execution_count": 33,
      "outputs": []
    },
    {
      "cell_type": "code",
      "source": [
        "my_list=list(range(100000)) # python list : normal\n",
        "my_array=np.array(range(100000)) # numpy array : vectorized\n",
        "print(type(my_array))"
      ],
      "metadata": {
        "colab": {
          "base_uri": "https://localhost:8080/"
        },
        "id": "mBm6oPmS8jG_",
        "outputId": "ef139817-4534-48f2-f316-0284e9289a12"
      },
      "execution_count": 34,
      "outputs": [
        {
          "output_type": "stream",
          "name": "stdout",
          "text": [
            "<class 'numpy.ndarray'>\n"
          ]
        }
      ]
    },
    {
      "cell_type": "markdown",
      "source": [
        "Spending time for x*2 that python list  "
      ],
      "metadata": {
        "id": "Y9imfdND9uSN"
      }
    },
    {
      "cell_type": "code",
      "source": [
        "%time for _ in range(10) :[ x*2 for x in my_list]"
      ],
      "metadata": {
        "colab": {
          "base_uri": "https://localhost:8080/"
        },
        "id": "N4eJE1I08zcR",
        "outputId": "8a542e8b-ee20-4fff-d48d-098261399347"
      },
      "execution_count": 35,
      "outputs": [
        {
          "output_type": "stream",
          "name": "stdout",
          "text": [
            "CPU times: user 68.8 ms, sys: 0 ns, total: 68.8 ms\n",
            "Wall time: 74.9 ms\n"
          ]
        }
      ]
    },
    {
      "cell_type": "markdown",
      "source": [
        "Spending time for x*2 that numpy array or vectorized"
      ],
      "metadata": {
        "id": "i-yt2-6N-RC9"
      }
    },
    {
      "cell_type": "code",
      "source": [
        "%time for _ in range(10) : 2*my_array"
      ],
      "metadata": {
        "colab": {
          "base_uri": "https://localhost:8080/"
        },
        "id": "Y0vRkgdZ-Nw9",
        "outputId": "1d3c9704-5754-4e53-bd97-8071bd2e0223"
      },
      "execution_count": 36,
      "outputs": [
        {
          "output_type": "stream",
          "name": "stdout",
          "text": [
            "CPU times: user 1.11 ms, sys: 3 µs, total: 1.11 ms\n",
            "Wall time: 1.12 ms\n"
          ]
        }
      ]
    },
    {
      "cell_type": "code",
      "source": [
        "66.5/3.92"
      ],
      "metadata": {
        "colab": {
          "base_uri": "https://localhost:8080/"
        },
        "id": "zX5H-reX-mHl",
        "outputId": "3e5eeaa9-1d6b-4ef6-e656-1c91c8b9460b"
      },
      "execution_count": 37,
      "outputs": [
        {
          "output_type": "execute_result",
          "data": {
            "text/plain": [
              "16.964285714285715"
            ]
          },
          "metadata": {},
          "execution_count": 37
        }
      ]
    },
    {
      "cell_type": "markdown",
      "source": [
        "Numpy array (vectorized) speed is faster then python list (normal)"
      ],
      "metadata": {
        "id": "ec4gNkas-pBJ"
      }
    },
    {
      "cell_type": "markdown",
      "source": [
        "# Array"
      ],
      "metadata": {
        "id": "PzUYS6fwQ5CY"
      }
    },
    {
      "cell_type": "markdown",
      "source": [
        "***Array yaratish***\n",
        "\n",
        "---\n",
        "\n",
        "1. ` np.array(list)`  => oddiy listdan iborat erray\n",
        "2. `np.zeros(shape=(q,u) or (q,u) )`  => barcha elementlari o dan iborat arrey shape qator va ustular\n",
        "3. `np.ones(shape=(q,u) or (q,u) )` => barcha elementlari 1 dan iborat array\n",
        "4. `np.arange(start, stop , step)` => looks like range"
      ],
      "metadata": {
        "id": "y4HNkKGXVQJG"
      }
    },
    {
      "cell_type": "code",
      "source": [
        "list1=[1,4,6,2,6,2]\n",
        "list2=[2,6,6,3,5,3] # simple list\n",
        "\n",
        "arr1=np.array(list1)  # array\n",
        "\n",
        "arr2=np.array([list1 , list2]) # array arr2\n",
        "\n",
        "print(len(list1))"
      ],
      "metadata": {
        "colab": {
          "base_uri": "https://localhost:8080/"
        },
        "id": "VJ63VTEXQszg",
        "outputId": "0e56a5d1-89a4-4280-b56b-3181de2cea43"
      },
      "execution_count": 22,
      "outputs": [
        {
          "output_type": "stream",
          "name": "stdout",
          "text": [
            "6\n"
          ]
        }
      ]
    },
    {
      "cell_type": "code",
      "source": [
        "arr3=np.zeros(shape=(2,5)) # faqat 0\n",
        "arr4=np.ones( (2,5) ) # faqat 1\n",
        "\n",
        "arr5=np.arange(2,15,2) # like range\n",
        "\n",
        "print(arr3)\n",
        "print(arr4)"
      ],
      "metadata": {
        "colab": {
          "base_uri": "https://localhost:8080/"
        },
        "id": "lYUvEb19VQ8a",
        "outputId": "06bff87f-c5f0-4ef2-b09d-3c8db328c49c"
      },
      "execution_count": 32,
      "outputs": [
        {
          "output_type": "stream",
          "name": "stdout",
          "text": [
            "[[0. 0. 0. 0. 0.]\n",
            " [0. 0. 0. 0. 0.]]\n",
            "[[1. 1. 1. 1. 1.]\n",
            " [1. 1. 1. 1. 1.]]\n"
          ]
        }
      ]
    },
    {
      "cell_type": "markdown",
      "source": [
        "**Array uzunligi**\n",
        "\n",
        "---\n",
        "\n",
        "\n",
        "  - `np.ndim` => len(array)\n",
        "  - `np.shape` => qator va ustunlar soni (q , U)\n",
        "  - `np.size` => erray ichidagi barcha elemenlar"
      ],
      "metadata": {
        "id": "40mgaKsaSYvH"
      }
    },
    {
      "cell_type": "code",
      "source": [
        "a=np.ndim(arr1)  # len => ndim uzunligi\n",
        "b=np.ndim(arr2)\n",
        "print(a,b)"
      ],
      "metadata": {
        "colab": {
          "base_uri": "https://localhost:8080/"
        },
        "id": "Tp9Lfy35REZ-",
        "outputId": "89ac8470-1766-4e0a-c1c3-0a9acd72fc48"
      },
      "execution_count": 21,
      "outputs": [
        {
          "output_type": "stream",
          "name": "stdout",
          "text": [
            "1 2\n"
          ]
        }
      ]
    },
    {
      "cell_type": "code",
      "source": [
        "np.shape(arr2) # qatorlar va ustular soni\n",
        "np.size(arr2) # barcha elemetlar soni"
      ],
      "metadata": {
        "colab": {
          "base_uri": "https://localhost:8080/"
        },
        "id": "jeD9xTozRhVa",
        "outputId": "f0d9ee65-0f19-4895-8d46-c55b06a33eee"
      },
      "execution_count": 25,
      "outputs": [
        {
          "output_type": "execute_result",
          "data": {
            "text/plain": [
              "12"
            ]
          },
          "metadata": {},
          "execution_count": 25
        }
      ]
    }
  ]
}