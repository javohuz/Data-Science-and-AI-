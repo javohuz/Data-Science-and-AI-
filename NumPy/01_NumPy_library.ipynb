{
  "nbformat": 4,
  "nbformat_minor": 0,
  "metadata": {
    "colab": {
      "provenance": [],
      "authorship_tag": "ABX9TyNpnUEnDlxcY67r+LvTMSLY",
      "include_colab_link": true
    },
    "kernelspec": {
      "name": "python3",
      "display_name": "Python 3"
    },
    "language_info": {
      "name": "python"
    }
  },
  "cells": [
    {
      "cell_type": "markdown",
      "metadata": {
        "id": "view-in-github",
        "colab_type": "text"
      },
      "source": [
        "<a href=\"https://colab.research.google.com/github/javohuz/Data_Science_and_AI/blob/main/NumPy/01_NumPy_library.ipynb\" target=\"_parent\"><img src=\"https://colab.research.google.com/assets/colab-badge.svg\" alt=\"Open In Colab\"/></a>"
      ]
    },
    {
      "cell_type": "code",
      "execution_count": 4,
      "metadata": {
        "colab": {
          "base_uri": "https://localhost:8080/"
        },
        "id": "SYmU9PK3xrUA",
        "outputId": "7185a9f2-0398-419a-979e-c9bd32fc85ce"
      },
      "outputs": [
        {
          "output_type": "stream",
          "name": "stdout",
          "text": [
            "NumPy\n"
          ]
        }
      ],
      "source": [
        "! ls\n",
        "! cd NumPy/"
      ]
    },
    {
      "cell_type": "markdown",
      "source": [
        "# New Section"
      ],
      "metadata": {
        "id": "vPzXr6twy9-D"
      }
    },
    {
      "cell_type": "code",
      "source": [],
      "metadata": {
        "id": "FJMQt2zY4dLI"
      },
      "execution_count": null,
      "outputs": []
    }
  ]
}