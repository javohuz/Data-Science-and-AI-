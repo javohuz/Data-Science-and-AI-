{
  "nbformat": 4,
  "nbformat_minor": 0,
  "metadata": {
    "colab": {
      "provenance": [],
      "authorship_tag": "ABX9TyMjVUdGQ5G7IWQPv1d5Bz5L",
      "include_colab_link": true
    },
    "kernelspec": {
      "name": "python3",
      "display_name": "Python 3"
    },
    "language_info": {
      "name": "python"
    }
  },
  "cells": [
    {
      "cell_type": "markdown",
      "metadata": {
        "id": "view-in-github",
        "colab_type": "text"
      },
      "source": [
        "<a href=\"https://colab.research.google.com/github/javohuz/Data_Science_and_AI/blob/main/NumPy/%2304_Boolean.ipynb\" target=\"_parent\"><img src=\"https://colab.research.google.com/assets/colab-badge.svg\" alt=\"Open In Colab\"/></a>"
      ]
    },
    {
      "cell_type": "markdown",
      "source": [
        "# Boolean\n",
        "  Boolean true yoki falsa javobibi qaytardi va shu yordamida amallar bajarsih imkonini beradi\n",
        "  \n",
        "- ` | `=> tayoqcha or degan manoni dagan manoni beradi\n",
        "- `mask = (names == \"Javohir\") | (names==\"Hasan\")`"
      ],
      "metadata": {
        "id": "4dochvKLZ867"
      }
    },
    {
      "cell_type": "code",
      "execution_count": 1,
      "metadata": {
        "id": "C6QiVyitZzd7"
      },
      "outputs": [],
      "source": [
        "import numpy as np"
      ]
    },
    {
      "cell_type": "code",
      "source": [
        "# Ismlar\n",
        "names = np.array(['Hasan', 'Husan', 'Javohir', 'Elyor', 'Hasan', 'Javohir', 'Elyor'])\n",
        "names"
      ],
      "metadata": {
        "colab": {
          "base_uri": "https://localhost:8080/"
        },
        "id": "2l1lkYVca0im",
        "outputId": "dd8e60d8-db90-4d6d-c292-811c39c847b5"
      },
      "execution_count": 5,
      "outputs": [
        {
          "output_type": "execute_result",
          "data": {
            "text/plain": [
              "array(['Hasan', 'Husan', 'Javohir', 'Elyor', 'Hasan', 'Javohir', 'Elyor'],\n",
              "      dtype='<U7')"
            ]
          },
          "metadata": {},
          "execution_count": 5
        }
      ]
    },
    {
      "cell_type": "code",
      "source": [
        "data = np.random.randn(7,4)\n",
        "data"
      ],
      "metadata": {
        "colab": {
          "base_uri": "https://localhost:8080/"
        },
        "id": "FoNSn4-1a1Zy",
        "outputId": "7bd517b5-55da-441a-bbb3-bdd9b42c054e"
      },
      "execution_count": 10,
      "outputs": [
        {
          "output_type": "execute_result",
          "data": {
            "text/plain": [
              "array([[-0.89306565, -0.26519357,  0.34452198, -0.30573802],\n",
              "       [ 0.44465102, -0.18587366,  0.32404763,  0.88294087],\n",
              "       [ 1.77208425,  0.30990513,  0.13784293,  0.84759258],\n",
              "       [ 0.62465026,  0.52100214, -0.01415131,  0.58204237],\n",
              "       [ 0.88926426, -0.56830036,  0.14630704, -0.11333459],\n",
              "       [ 0.76058154,  1.39571633,  0.59338272, -0.74794875],\n",
              "       [-1.29810694, -2.02491485, -0.54634017,  0.01097459]])"
            ]
          },
          "metadata": {},
          "execution_count": 10
        }
      ]
    },
    {
      "cell_type": "code",
      "source": [
        "names == \"Javohir\""
      ],
      "metadata": {
        "colab": {
          "base_uri": "https://localhost:8080/"
        },
        "id": "bWkRAkelbHhQ",
        "outputId": "599fdf4a-ed94-4659-e35f-a9ff79366e95"
      },
      "execution_count": 6,
      "outputs": [
        {
          "output_type": "execute_result",
          "data": {
            "text/plain": [
              "array([False, False,  True, False, False,  True, False])"
            ]
          },
          "metadata": {},
          "execution_count": 6
        }
      ]
    },
    {
      "cell_type": "code",
      "source": [
        "data[names == \"Javohir\"]"
      ],
      "metadata": {
        "colab": {
          "base_uri": "https://localhost:8080/"
        },
        "id": "4Y61RlGmbWzR",
        "outputId": "dafe0d46-610a-443e-d369-9741e9d19122"
      },
      "execution_count": 12,
      "outputs": [
        {
          "output_type": "execute_result",
          "data": {
            "text/plain": [
              "array([[ 1.77208425,  0.30990513,  0.13784293,  0.84759258],\n",
              "       [ 0.76058154,  1.39571633,  0.59338272, -0.74794875]])"
            ]
          },
          "metadata": {},
          "execution_count": 12
        }
      ]
    },
    {
      "cell_type": "markdown",
      "source": [
        "agar tepadagi random orqali berilgan arrayni malum bir qatoridagi sonlar kerak bulsa pastda"
      ],
      "metadata": {
        "id": "MF9h7jmAcFUz"
      }
    },
    {
      "cell_type": "code",
      "source": [
        "data[names == \"Javohir\" , :2 ]"
      ],
      "metadata": {
        "colab": {
          "base_uri": "https://localhost:8080/"
        },
        "id": "Ey9C4oTObfeV",
        "outputId": "ca2340fa-b560-4925-ffe0-443162e90c4a"
      },
      "execution_count": 13,
      "outputs": [
        {
          "output_type": "execute_result",
          "data": {
            "text/plain": [
              "array([[1.77208425, 0.30990513],\n",
              "       [0.76058154, 1.39571633]])"
            ]
          },
          "metadata": {},
          "execution_count": 13
        }
      ]
    },
    {
      "cell_type": "markdown",
      "source": [
        "Aksincha bitta qiymatdan boshqa qiymatlar kerak bulsa"
      ],
      "metadata": {
        "id": "3QhqDbFRc4Hk"
      }
    },
    {
      "cell_type": "code",
      "source": [
        "data[names != \"Javohir\"]\n",
        "data[~(names == \"Javohir\")] # ikalasinign ham vazifasi birxil"
      ],
      "metadata": {
        "colab": {
          "base_uri": "https://localhost:8080/"
        },
        "id": "H1ty_KcIc1y1",
        "outputId": "8b1fa6c4-51d2-41b9-f5cb-51a1ac1854e7"
      },
      "execution_count": 15,
      "outputs": [
        {
          "output_type": "execute_result",
          "data": {
            "text/plain": [
              "array([[-0.89306565, -0.26519357,  0.34452198, -0.30573802],\n",
              "       [ 0.44465102, -0.18587366,  0.32404763,  0.88294087],\n",
              "       [ 0.62465026,  0.52100214, -0.01415131,  0.58204237],\n",
              "       [ 0.88926426, -0.56830036,  0.14630704, -0.11333459],\n",
              "       [-1.29810694, -2.02491485, -0.54634017,  0.01097459]])"
            ]
          },
          "metadata": {},
          "execution_count": 15
        }
      ]
    },
    {
      "cell_type": "markdown",
      "source": [
        "Birdaniga ikkta isimnig data dagi malumotlarini olsish uchun avval uzgaruvchi yaratib olamiz"
      ],
      "metadata": {
        "id": "Rd1W5zu-cZo1"
      }
    },
    {
      "cell_type": "code",
      "source": [
        "mask = (names == \"Javohir\") | (names==\"Hasan\")\n",
        "mask"
      ],
      "metadata": {
        "colab": {
          "base_uri": "https://localhost:8080/"
        },
        "id": "68HCG2bPcYFE",
        "outputId": "4423a9df-4768-40ee-a143-18049fdeef03"
      },
      "execution_count": 17,
      "outputs": [
        {
          "output_type": "execute_result",
          "data": {
            "text/plain": [
              "array([ True, False,  True, False,  True,  True, False])"
            ]
          },
          "metadata": {},
          "execution_count": 17
        }
      ]
    },
    {
      "cell_type": "code",
      "source": [
        "data[mask]"
      ],
      "metadata": {
        "colab": {
          "base_uri": "https://localhost:8080/"
        },
        "id": "FvTm1NiKcnfB",
        "outputId": "08210735-1e52-4f6a-f22e-937f00295caa"
      },
      "execution_count": 18,
      "outputs": [
        {
          "output_type": "execute_result",
          "data": {
            "text/plain": [
              "array([[-0.89306565, -0.26519357,  0.34452198, -0.30573802],\n",
              "       [ 1.77208425,  0.30990513,  0.13784293,  0.84759258],\n",
              "       [ 0.88926426, -0.56830036,  0.14630704, -0.11333459],\n",
              "       [ 0.76058154,  1.39571633,  0.59338272, -0.74794875]])"
            ]
          },
          "metadata": {},
          "execution_count": 18
        }
      ]
    },
    {
      "cell_type": "markdown",
      "source": [
        "Data ishidagi malum qiymatlarni uzgartirmoqchi bulsak misol uchun hama manfiy sonlarni =0 qilaylik"
      ],
      "metadata": {
        "id": "6B-Y1k8GeGss"
      }
    },
    {
      "cell_type": "code",
      "source": [
        "data"
      ],
      "metadata": {
        "colab": {
          "base_uri": "https://localhost:8080/"
        },
        "id": "bArFVtvsdzNY",
        "outputId": "be32f5ff-2bad-453c-eba7-7b1dbe275714"
      },
      "execution_count": 19,
      "outputs": [
        {
          "output_type": "execute_result",
          "data": {
            "text/plain": [
              "array([[-0.89306565, -0.26519357,  0.34452198, -0.30573802],\n",
              "       [ 0.44465102, -0.18587366,  0.32404763,  0.88294087],\n",
              "       [ 1.77208425,  0.30990513,  0.13784293,  0.84759258],\n",
              "       [ 0.62465026,  0.52100214, -0.01415131,  0.58204237],\n",
              "       [ 0.88926426, -0.56830036,  0.14630704, -0.11333459],\n",
              "       [ 0.76058154,  1.39571633,  0.59338272, -0.74794875],\n",
              "       [-1.29810694, -2.02491485, -0.54634017,  0.01097459]])"
            ]
          },
          "metadata": {},
          "execution_count": 19
        }
      ]
    },
    {
      "cell_type": "code",
      "source": [
        "data[data<0]=0\n",
        "data"
      ],
      "metadata": {
        "colab": {
          "base_uri": "https://localhost:8080/"
        },
        "id": "qNL-p_t1eMAo",
        "outputId": "aae185cd-c08e-4111-86d1-f66097b6c441"
      },
      "execution_count": 21,
      "outputs": [
        {
          "output_type": "execute_result",
          "data": {
            "text/plain": [
              "array([[0.        , 0.        , 0.34452198, 0.        ],\n",
              "       [0.44465102, 0.        , 0.32404763, 0.88294087],\n",
              "       [1.77208425, 0.30990513, 0.13784293, 0.84759258],\n",
              "       [0.62465026, 0.52100214, 0.        , 0.58204237],\n",
              "       [0.88926426, 0.        , 0.14630704, 0.        ],\n",
              "       [0.76058154, 1.39571633, 0.59338272, 0.        ],\n",
              "       [0.        , 0.        , 0.        , 0.01097459]])"
            ]
          },
          "metadata": {},
          "execution_count": 21
        }
      ]
    },
    {
      "cell_type": "markdown",
      "source": [
        "Yoki shunga ushash amallar bajarib uzimizga kerak li kurinishga olib kelsak buldi har bir elementini  2 ga kupaytramiz"
      ],
      "metadata": {
        "id": "Hb91Lnr0eiUs"
      }
    },
    {
      "cell_type": "code",
      "source": [
        "data[:]=data*2\n",
        "data"
      ],
      "metadata": {
        "colab": {
          "base_uri": "https://localhost:8080/"
        },
        "id": "7AvJ7mDQecAb",
        "outputId": "b69dbf55-cfa2-4900-eedc-b1246ffd48e2"
      },
      "execution_count": 22,
      "outputs": [
        {
          "output_type": "execute_result",
          "data": {
            "text/plain": [
              "array([[0.        , 0.        , 0.68904397, 0.        ],\n",
              "       [0.88930203, 0.        , 0.64809526, 1.76588174],\n",
              "       [3.54416849, 0.61981025, 0.27568586, 1.69518516],\n",
              "       [1.24930052, 1.04200427, 0.        , 1.16408475],\n",
              "       [1.77852852, 0.        , 0.29261407, 0.        ],\n",
              "       [1.52116309, 2.79143266, 1.18676543, 0.        ],\n",
              "       [0.        , 0.        , 0.        , 0.02194918]])"
            ]
          },
          "metadata": {},
          "execution_count": 22
        }
      ]
    }
  ]
}