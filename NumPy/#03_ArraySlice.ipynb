{
  "nbformat": 4,
  "nbformat_minor": 0,
  "metadata": {
    "colab": {
      "provenance": [],
      "authorship_tag": "ABX9TyMoDKCViqmkU4Jc486b2fW4",
      "include_colab_link": true
    },
    "kernelspec": {
      "name": "python3",
      "display_name": "Python 3"
    },
    "language_info": {
      "name": "python"
    }
  },
  "cells": [
    {
      "cell_type": "markdown",
      "metadata": {
        "id": "view-in-github",
        "colab_type": "text"
      },
      "source": [
        "<a href=\"https://colab.research.google.com/github/javohuz/Data_Science_and_AI/blob/main/NumPy/%2303_ArraySlice.ipynb\" target=\"_parent\"><img src=\"https://colab.research.google.com/assets/colab-badge.svg\" alt=\"Open In Colab\"/></a>"
      ]
    },
    {
      "cell_type": "markdown",
      "source": [
        "# Array Slice\n",
        "  - It looks like Python list Slice\n",
        "  - `slice_arr = arr[2:4]`  => Slice code\n",
        "  - `copy() `  copying from array"
      ],
      "metadata": {
        "id": "w8TDSweDFkUT"
      }
    },
    {
      "cell_type": "code",
      "execution_count": 1,
      "metadata": {
        "id": "HDOE-MWjD60E"
      },
      "outputs": [],
      "source": [
        "import numpy as np"
      ]
    },
    {
      "cell_type": "code",
      "source": [
        "arr = np.arange(10,100,10)\n",
        "arr"
      ],
      "metadata": {
        "colab": {
          "base_uri": "https://localhost:8080/"
        },
        "id": "iuzvPG0ZGE_Q",
        "outputId": "b9ea6818-7560-4fc1-beb0-8dc5ca19657e"
      },
      "execution_count": 22,
      "outputs": [
        {
          "output_type": "execute_result",
          "data": {
            "text/plain": [
              "array([10, 20, 30, 40, 50, 60, 70, 80, 90])"
            ]
          },
          "metadata": {},
          "execution_count": 22
        }
      ]
    },
    {
      "cell_type": "code",
      "source": [
        "slice_arr = arr[2:4]\n",
        "slice_arr"
      ],
      "metadata": {
        "colab": {
          "base_uri": "https://localhost:8080/"
        },
        "id": "av5nyhb0GL9t",
        "outputId": "d5189fd4-49cf-4d3a-855c-6432c0ee7f10"
      },
      "execution_count": 23,
      "outputs": [
        {
          "output_type": "execute_result",
          "data": {
            "text/plain": [
              "array([30, 40])"
            ]
          },
          "metadata": {},
          "execution_count": 23
        }
      ]
    },
    {
      "cell_type": "code",
      "source": [
        "slice_arr[:] = 0\n",
        "print(slice_arr , arr)"
      ],
      "metadata": {
        "colab": {
          "base_uri": "https://localhost:8080/"
        },
        "id": "HJgfw7gXI28N",
        "outputId": "fe0a6a49-cf4f-4573-c36d-d3bb540187d1"
      },
      "execution_count": 28,
      "outputs": [
        {
          "output_type": "stream",
          "name": "stdout",
          "text": [
            "[0 0] [10 20  0  0 50 60 70 80 90]\n"
          ]
        }
      ]
    },
    {
      "cell_type": "markdown",
      "source": [
        "Asosiy arraydan kesib olib, kesib kesib olingan arrayni uzgartradigan bulsan asosiy array ham uzgaradi , agar asosiy array uzgarishsiz qolishi kerak bulsa kesib eman nusxa olish kk yani => `.copy() ` dan foydalnish kerak"
      ],
      "metadata": {
        "id": "919bvQplGzb0"
      }
    },
    {
      "cell_type": "code",
      "source": [
        "arr1= np.arange(10,100,10)\n",
        "copy_arr1 = arr1[2:4].copy()\n",
        "copy_arr1\n"
      ],
      "metadata": {
        "colab": {
          "base_uri": "https://localhost:8080/"
        },
        "id": "QKCT1sFfHriw",
        "outputId": "3d9b5482-c7d9-442e-ebf2-ac9bd04b7536"
      },
      "execution_count": 29,
      "outputs": [
        {
          "output_type": "execute_result",
          "data": {
            "text/plain": [
              "array([30, 40])"
            ]
          },
          "metadata": {},
          "execution_count": 29
        }
      ]
    },
    {
      "cell_type": "code",
      "source": [
        "copy_arr1[:]=0\n",
        "print(copy_arr1 , arr1)"
      ],
      "metadata": {
        "colab": {
          "base_uri": "https://localhost:8080/"
        },
        "id": "5_p12qX7JUQT",
        "outputId": "1f25a6ab-d193-4751-ee3d-0749b86d752d"
      },
      "execution_count": 30,
      "outputs": [
        {
          "output_type": "stream",
          "name": "stdout",
          "text": [
            "[0 0] [10 20 30 40 50 60 70 80 90]\n"
          ]
        }
      ]
    },
    {
      "cell_type": "markdown",
      "source": [
        "# 2D arrays\n",
        "  - `arr2d9 = arr2d[1,2]`  = > Bitta elementni olishi\n",
        "  - `slice2d = arr2d[0, :2]` = > Kesib olish\n",
        "  - `copy2d = arr2d[1, :]` = > Nusxa olish\n",
        "  \n",
        "\n",
        "---\n",
        "\n",
        "\n",
        "![2d array.png](data:image/png;base64,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)"
      ],
      "metadata": {
        "id": "4Kjhad2aP5On"
      }
    },
    {
      "cell_type": "code",
      "source": [
        "arr2d = np.array([[2,5,3],\n",
        "                  [4,8,9],\n",
        "                  [2,5,3]])\n",
        "\n",
        "arr2d9 = arr2d[1,2]\n",
        "arr2d9"
      ],
      "metadata": {
        "colab": {
          "base_uri": "https://localhost:8080/"
        },
        "id": "nn6HdSx2QBTz",
        "outputId": "8d834d1a-d4fa-4d8e-c3fa-198f9022c993"
      },
      "execution_count": 37,
      "outputs": [
        {
          "output_type": "execute_result",
          "data": {
            "text/plain": [
              "9"
            ]
          },
          "metadata": {},
          "execution_count": 37
        }
      ]
    },
    {
      "cell_type": "code",
      "source": [
        "slice2d = arr2d[0, :2]\n",
        "slice2d"
      ],
      "metadata": {
        "colab": {
          "base_uri": "https://localhost:8080/"
        },
        "id": "SYbjRij-Qlo-",
        "outputId": "41d0f46c-8470-4378-9bcb-69830f405d4a"
      },
      "execution_count": 34,
      "outputs": [
        {
          "output_type": "execute_result",
          "data": {
            "text/plain": [
              "array([2, 5])"
            ]
          },
          "metadata": {},
          "execution_count": 34
        }
      ]
    },
    {
      "cell_type": "code",
      "source": [
        "copy2d = arr2d[2, :]\n",
        "copy2d"
      ],
      "metadata": {
        "colab": {
          "base_uri": "https://localhost:8080/"
        },
        "id": "MCkJ8LBlQ_eY",
        "outputId": "1e30936b-cf19-4e6f-9994-7964c2245638"
      },
      "execution_count": 38,
      "outputs": [
        {
          "output_type": "execute_result",
          "data": {
            "text/plain": [
              "array([2, 5, 3])"
            ]
          },
          "metadata": {},
          "execution_count": 38
        }
      ]
    },
    {
      "cell_type": "markdown",
      "source": [
        "# 3d Arrays\n",
        "Kesib olish ni 2 xil yuli bor 3d yoki 2d ga keltrish\n",
        "  - `arr3d17 = arr3d[1,2,2]` = > 3d usuli\n",
        "  - `arr3d18 = arr3d[2][0,0]` = > 2d ga keltrish\n",
        "\n",
        "\n",
        "---\n",
        "\n",
        "\n",
        "![2d_array.png](data:image/png;base64,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)"
      ],
      "metadata": {
        "id": "5umS5ju9Rxpb"
      }
    },
    {
      "cell_type": "code",
      "source": [
        "arr3d = np.array([[[ 0,  1,  2],\n",
        "                   [ 3,  4,  5],\n",
        "                   [ 6,  7,  8]],\n",
        "\n",
        "                  [[ 9, 10, 11],\n",
        "                   [12, 13, 14],\n",
        "                   [15, 16, 17]],\n",
        "\n",
        "                  [[18, 19, 20],\n",
        "                   [21, 22, 23],\n",
        "                   [24, 25, 26]]])"
      ],
      "metadata": {
        "id": "wFWU5HZcSURC"
      },
      "execution_count": 39,
      "outputs": []
    },
    {
      "cell_type": "markdown",
      "source": [
        "Kesib olish ni 2 xil yuli bor 3d yoki 2d ga keltrish\n",
        "  - `arr3d17 = arr3d[1,2,2]` = > 3d usuli\n",
        "  - `arr3d18 = arr3d[2][0,0]` = > 2d ga keltrish"
      ],
      "metadata": {
        "id": "vz0D6ihKSpB2"
      }
    },
    {
      "cell_type": "code",
      "source": [
        "# 3d usuli\n",
        "arr3d17 = arr3d[1,2,2]\n",
        "arr3d17"
      ],
      "metadata": {
        "colab": {
          "base_uri": "https://localhost:8080/"
        },
        "id": "3PAyfRdfSf__",
        "outputId": "ed598768-9867-417b-dcb0-7b42b3f04e81"
      },
      "execution_count": 43,
      "outputs": [
        {
          "output_type": "execute_result",
          "data": {
            "text/plain": [
              "17"
            ]
          },
          "metadata": {},
          "execution_count": 43
        }
      ]
    },
    {
      "cell_type": "code",
      "source": [
        "# 2d ga keltrish usilu\n",
        "arr3d18 = arr3d[2][0,0]\n",
        "arr3d18"
      ],
      "metadata": {
        "colab": {
          "base_uri": "https://localhost:8080/"
        },
        "id": "yhIENB3ZTAPD",
        "outputId": "174daaf5-f024-4a54-c61b-f7abc2132995"
      },
      "execution_count": 41,
      "outputs": [
        {
          "output_type": "execute_result",
          "data": {
            "text/plain": [
              "18"
            ]
          },
          "metadata": {},
          "execution_count": 41
        }
      ]
    },
    {
      "cell_type": "markdown",
      "source": [
        "Bir qismini kesib olish huddi 2d ga uhshaydi"
      ],
      "metadata": {
        "id": "Wgxz8PDuTo7o"
      }
    },
    {
      "cell_type": "code",
      "source": [
        "# 3d usuli\n",
        "slice3d = arr3d[:,1,:]\n",
        "slice3d"
      ],
      "metadata": {
        "colab": {
          "base_uri": "https://localhost:8080/"
        },
        "id": "jXjQc3rpTmJ4",
        "outputId": "bd3a105a-607e-493f-8004-73549f041a5c"
      },
      "execution_count": 42,
      "outputs": [
        {
          "output_type": "execute_result",
          "data": {
            "text/plain": [
              "array([[ 3,  4,  5],\n",
              "       [12, 13, 14],\n",
              "       [21, 22, 23]])"
            ]
          },
          "metadata": {},
          "execution_count": 42
        }
      ]
    },
    {
      "cell_type": "code",
      "source": [
        "# 2d ga keltish  usuli\n",
        "slice3d = arr3d[:][1,:]\n",
        "slice3d"
      ],
      "metadata": {
        "colab": {
          "base_uri": "https://localhost:8080/"
        },
        "id": "yCZbaPgAT6ck",
        "outputId": "d06569bc-f3fb-4595-8b61-f55610bfa01b"
      },
      "execution_count": 44,
      "outputs": [
        {
          "output_type": "execute_result",
          "data": {
            "text/plain": [
              "array([[ 9, 10, 11],\n",
              "       [12, 13, 14],\n",
              "       [15, 16, 17]])"
            ]
          },
          "metadata": {},
          "execution_count": 44
        }
      ]
    }
  ]
}