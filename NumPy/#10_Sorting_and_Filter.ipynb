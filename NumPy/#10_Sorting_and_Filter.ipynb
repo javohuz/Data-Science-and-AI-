{
  "nbformat": 4,
  "nbformat_minor": 0,
  "metadata": {
    "colab": {
      "provenance": [],
      "authorship_tag": "ABX9TyO4G00VbY20qk/TgzW4HzoI",
      "include_colab_link": true
    },
    "kernelspec": {
      "name": "python3",
      "display_name": "Python 3"
    },
    "language_info": {
      "name": "python"
    }
  },
  "cells": [
    {
      "cell_type": "markdown",
      "metadata": {
        "id": "view-in-github",
        "colab_type": "text"
      },
      "source": [
        "<a href=\"https://colab.research.google.com/github/javohuz/Data_Science_and_AI/blob/main/NumPy/%2310_Sorting_and_Filter.ipynb\" target=\"_parent\"><img src=\"https://colab.research.google.com/assets/colab-badge.svg\" alt=\"Open In Colab\"/></a>"
      ]
    },
    {
      "cell_type": "markdown",
      "source": [
        "# Sorting tartiblash\n",
        "  - `np.sort(arr)` tugri tartiblash\n",
        "  - `-np.sort(-arr)` = > teskari tartiblash\n",
        "  - `np.unique(arr)` erray ichidagi birxil elementlarni olib sorting qiladi\n",
        "  - `np.in1d(arr1, arr2)`  = > arr1 arrayda arr2 arrayidagi bilan bir xil bulgan elemenlarga True qiymat qaytaradi\n",
        "  - `np.setdiff1d(arr1 , arr2) ` = arr1 arrayda arr2 arrayidagi bilan bir xil bulmagan elemenlarga True qiymat qaytaradi"
      ],
      "metadata": {
        "id": "9yNlEb9QwOaj"
      }
    },
    {
      "cell_type": "code",
      "execution_count": 1,
      "metadata": {
        "id": "lUTDv4ALv6CQ"
      },
      "outputs": [],
      "source": [
        "import numpy as np\n"
      ]
    },
    {
      "cell_type": "code",
      "source": [
        "arr = np.random.randn(2,5)\n",
        "arr"
      ],
      "metadata": {
        "colab": {
          "base_uri": "https://localhost:8080/"
        },
        "id": "kdNjY5Yxy5S3",
        "outputId": "d6f2077c-121f-4bc1-e163-71927e77e04a"
      },
      "execution_count": 4,
      "outputs": [
        {
          "output_type": "execute_result",
          "data": {
            "text/plain": [
              "array([[-0.16224926,  1.41650351,  1.06335314, -1.1955368 , -0.28444031],\n",
              "       [ 1.88113583,  0.5036022 , -0.36601295, -0.79414868, -2.16368695]])"
            ]
          },
          "metadata": {},
          "execution_count": 4
        }
      ]
    },
    {
      "cell_type": "code",
      "source": [
        "sorted = np.sort(arr)\n",
        "sorted01 = np.sort(arr)\n",
        "print(sorted , sorted01 )"
      ],
      "metadata": {
        "colab": {
          "base_uri": "https://localhost:8080/"
        },
        "id": "9vYh2TQvy_lY",
        "outputId": "ba97c195-c317-40b4-f362-e1ae1982a393"
      },
      "execution_count": 8,
      "outputs": [
        {
          "output_type": "stream",
          "name": "stdout",
          "text": [
            "[[-1.1955368  -0.28444031 -0.16224926  1.06335314  1.41650351]\n",
            " [-2.16368695 -0.79414868 -0.36601295  0.5036022   1.88113583]] [[-1.1955368  -0.28444031 -0.16224926  1.06335314  1.41650351]\n",
            " [-2.16368695 -0.79414868 -0.36601295  0.5036022   1.88113583]]\n"
          ]
        }
      ]
    },
    {
      "cell_type": "markdown",
      "source": [
        "- axis = 0 ustun\n",
        "- axis = 1 qator"
      ],
      "metadata": {
        "id": "KLi9SStE0E9Z"
      }
    },
    {
      "cell_type": "code",
      "source": [
        "axis0sort = np.sort(arr , axis = 0)\n",
        "axis1sort = np.sort(arr , axis = 1)\n",
        "print(axis0sort )\n",
        "print(axis1sort)"
      ],
      "metadata": {
        "colab": {
          "base_uri": "https://localhost:8080/"
        },
        "id": "leOEaSlxzmcY",
        "outputId": "3e1060c4-e017-4adf-f5f2-ff662fe82f4f"
      },
      "execution_count": 13,
      "outputs": [
        {
          "output_type": "stream",
          "name": "stdout",
          "text": [
            "[[-2.16368695 -0.79414868 -0.36601295  0.5036022   1.41650351]\n",
            " [-1.1955368  -0.28444031 -0.16224926  1.06335314  1.88113583]]\n",
            "[[-1.1955368  -0.28444031 -0.16224926  1.06335314  1.41650351]\n",
            " [-2.16368695 -0.79414868 -0.36601295  0.5036022   1.88113583]]\n"
          ]
        }
      ]
    },
    {
      "cell_type": "markdown",
      "source": [
        "Teskari tartiblash"
      ],
      "metadata": {
        "id": "-LXzVud-0nN7"
      }
    },
    {
      "cell_type": "code",
      "source": [
        "arr1 = np.arange(6)\n",
        "arr1"
      ],
      "metadata": {
        "colab": {
          "base_uri": "https://localhost:8080/"
        },
        "id": "IMHJa80c0bWC",
        "outputId": "53d54944-29c4-4f7e-865a-f6bb43241ef3"
      },
      "execution_count": 14,
      "outputs": [
        {
          "output_type": "execute_result",
          "data": {
            "text/plain": [
              "array([0, 1, 2, 3, 4, 5])"
            ]
          },
          "metadata": {},
          "execution_count": 14
        }
      ]
    },
    {
      "cell_type": "code",
      "source": [
        "teskarisort = -np.sort(-arr1)\n",
        "teskarisort"
      ],
      "metadata": {
        "colab": {
          "base_uri": "https://localhost:8080/"
        },
        "id": "wKrxZVQ10v6v",
        "outputId": "8c930a0f-b342-4953-d81b-1e2393210bd4"
      },
      "execution_count": 15,
      "outputs": [
        {
          "output_type": "execute_result",
          "data": {
            "text/plain": [
              "array([5, 4, 3, 2, 1, 0])"
            ]
          },
          "metadata": {},
          "execution_count": 15
        }
      ]
    },
    {
      "cell_type": "markdown",
      "source": [
        "`unique`"
      ],
      "metadata": {
        "id": "3rLMgcxb9QtM"
      }
    },
    {
      "cell_type": "code",
      "source": [
        "names = np.array(['Sarvar', 'Abdurahmon', 'Hasan',  'Temur', 'Sarvar', 'Temur'])\n",
        "ints = np.array([3, 3, 3, 2, 2, 1, 1, 4, 4])\n",
        "uniqued = np.unique(names)\n",
        "uniqued1 = np.unique(ints)\n",
        "print(uniqued , uniqued1 )"
      ],
      "metadata": {
        "colab": {
          "base_uri": "https://localhost:8080/"
        },
        "id": "cybMWb0b9S6m",
        "outputId": "4ef2a984-0527-4448-d684-285359e8bacf"
      },
      "execution_count": 24,
      "outputs": [
        {
          "output_type": "stream",
          "name": "stdout",
          "text": [
            "['Abdurahmon' 'Hasan' 'Sarvar' 'Temur'] [1 2 3 4]\n"
          ]
        }
      ]
    },
    {
      "cell_type": "markdown",
      "source": [
        "`in1d`"
      ],
      "metadata": {
        "id": "SZMpOI1t-RRz"
      }
    },
    {
      "cell_type": "code",
      "source": [
        "arr1 = np.array([6, 0, 0, 3, 2, 5, 6])\n",
        "arr2 = np.array([0, 2, 3])\n",
        "\n",
        "in1d12 = np.in1d(arr1, arr2 )\n",
        "arr12 = arr1[in1d12]\n",
        "print(np.unique(arr12))\n"
      ],
      "metadata": {
        "colab": {
          "base_uri": "https://localhost:8080/"
        },
        "id": "mh9AyrBr-TmA",
        "outputId": "4da04364-bf81-4767-c8ee-dbb0b5085982"
      },
      "execution_count": 30,
      "outputs": [
        {
          "output_type": "stream",
          "name": "stdout",
          "text": [
            "[0 2 3]\n"
          ]
        }
      ]
    },
    {
      "cell_type": "markdown",
      "source": [
        "`setdiff1d`"
      ],
      "metadata": {
        "id": "qWqme3L8_I4E"
      }
    },
    {
      "cell_type": "code",
      "source": [
        "arr1 = np.array([6, 0, 0, 3, 2, 5, 6])\n",
        "arr2 = np.array([0, 2, 3])\n",
        "\n",
        "in1d12 = np.setdiff1d(arr1, arr2 )\n",
        "arr12 = arr1[in1d12]\n",
        "print(np.unique(arr12))"
      ],
      "metadata": {
        "colab": {
          "base_uri": "https://localhost:8080/"
        },
        "id": "lDbhchVb_U8d",
        "outputId": "b1d16521-2bcd-473c-d665-f076687f0e35"
      },
      "execution_count": 31,
      "outputs": [
        {
          "output_type": "stream",
          "name": "stdout",
          "text": [
            "[5 6]\n"
          ]
        }
      ]
    },
    {
      "cell_type": "markdown",
      "source": [
        "# Filtirlash"
      ],
      "metadata": {
        "id": "x6ErxFXG08eN"
      }
    },
    {
      "cell_type": "code",
      "source": [
        "arr2 = np.array([12,22,23,24])\n",
        "arr3 = [True , False , False , True]\n",
        "\n",
        "filterarr2 = arr2[arr3]\n",
        "filterarr2"
      ],
      "metadata": {
        "colab": {
          "base_uri": "https://localhost:8080/"
        },
        "id": "LGzvKHf204rf",
        "outputId": "99d4ad8b-c0e1-49db-c3ca-d0701909433c"
      },
      "execution_count": 18,
      "outputs": [
        {
          "output_type": "execute_result",
          "data": {
            "text/plain": [
              "array([12, 24])"
            ]
          },
          "metadata": {},
          "execution_count": 18
        }
      ]
    },
    {
      "cell_type": "code",
      "source": [
        "arr4 = np.random.randn(6)\n",
        "filterarr4 = arr4>0\n",
        "print(arr4)\n",
        "filtered = arr4[filterarr4]\n",
        "\n",
        "print(filterarr4)\n",
        "print(filtered)\n"
      ],
      "metadata": {
        "colab": {
          "base_uri": "https://localhost:8080/"
        },
        "id": "mjZSXmqh1drU",
        "outputId": "07c727d2-fd1c-4aba-cf4a-fdf6915f6f36"
      },
      "execution_count": 21,
      "outputs": [
        {
          "output_type": "stream",
          "name": "stdout",
          "text": [
            "[-0.16844767  0.07721194  3.29099407 -0.48314976 -0.39067562 -1.05547434]\n",
            "[False  True  True False False False]\n",
            "[0.07721194 3.29099407]\n"
          ]
        }
      ]
    },
    {
      "cell_type": "code",
      "source": [
        "arr5 = np.arange(6)\n",
        "filterarr5 = arr5 %2==0\n",
        "print(arr5)\n",
        "filtered = arr5[filterarr5]\n",
        "\n",
        "print(filterarr5)\n",
        "print(filtered)"
      ],
      "metadata": {
        "colab": {
          "base_uri": "https://localhost:8080/"
        },
        "id": "KxyprfOt1q79",
        "outputId": "41acf670-d5e2-49a6-b409-db2ad740ddbc"
      },
      "execution_count": 23,
      "outputs": [
        {
          "output_type": "stream",
          "name": "stdout",
          "text": [
            "[0 1 2 3 4 5]\n",
            "[ True False  True False  True False]\n",
            "[0 2 4]\n"
          ]
        }
      ]
    }
  ]
}